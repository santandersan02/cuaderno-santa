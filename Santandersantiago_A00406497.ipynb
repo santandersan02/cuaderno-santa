{
  "nbformat": 4,
  "nbformat_minor": 0,
  "metadata": {
    "colab": {
      "provenance": [],
      "authorship_tag": "ABX9TyOcudrmCkbQ1lF8+MlaFMbV",
      "include_colab_link": true
    },
    "kernelspec": {
      "name": "python3",
      "display_name": "Python 3"
    },
    "language_info": {
      "name": "python"
    }
  },
  "cells": [
    {
      "cell_type": "markdown",
      "metadata": {
        "id": "view-in-github",
        "colab_type": "text"
      },
      "source": [
        "<a href=\"https://colab.research.google.com/github/santandersan02/cuaderno-santa/blob/main/Santandersantiago_A00406497.ipynb\" target=\"_parent\"><img src=\"https://colab.research.google.com/assets/colab-badge.svg\" alt=\"Open In Colab\"/></a>"
      ]
    },
    {
      "cell_type": "code",
      "source": [],
      "metadata": {
        "id": "SKh4g5o8ne8G"
      },
      "execution_count": null,
      "outputs": []
    },
    {
      "cell_type": "markdown",
      "source": [
        "# AUTOBIOGRAFIA DE **SANTIAGO**\n",
        "\n",
        "Soy Santiago Santander, tengo 18 años y soy de Cali. Actualmente estudio ingeniería industrial en la Universidad ICESI y estoy en segundo semestre. Vivo en Cali con mi familia: mis padres, mi hermano, mi hermana y nuestro perro. Me apasionan el fútbol y los deportes en general. Además, disfruto de todo tipo de música y mi color favorito siempre ha sido el <font color=\"yellow\"> amarillo </font> También soy un gran aficionado a los carros.\n",
        "\n",
        "Elegí estudiar ingeniería industrial porque mi principal objetivo es crear mi propia empresa. Esta carrera me ofrece un conocimiento integral de todos los campos de una industria, brindándome una base sólida para la creación, el sostenimiento y el desarrollo de una empresa. Estoy convencido de que la formación en ingeniería industrial me proporcionará las herramientas necesarias para alcanzar mis metas empresariales y contribuir al crecimiento económico y social de mi comunidad.  \n",
        "\n",
        "\n",
        "<img src=https://www.ikea.com/co/es/images/products/bygglek-caja-de-201-piezas-lego-r-colores-variados__0915518_pe784785_s5.jpg  width=\"200\">\n",
        "\n",
        "##<font color=\"red\">Cansiones favoritas de el santa </font>\n",
        "\n",
        "  >*Te Regalo el Corazon*\n",
        "  >>El Gran Combo de Puerto Rico\n",
        "  >>>ISAIAS BARRIOS\n",
        "\n",
        "  >*Un Cigarrillo*\n",
        "  >>Chencho corleone\n",
        "  >>>Chencho Corleone\n",
        "\n",
        "  >*Relacion Rota*\n",
        "  >>Myke Towers\n",
        "  >>>Myke Towers\n",
        "\n",
        "  >*X2*\n",
        "  >>Dai V\n",
        "  >>>Dai V\n",
        "\n",
        "  >*Maquillaje-Remix*\n",
        "  >>Renn, Myke Towers, niro Gracia, Yexel\n",
        "  >>>Renn\n",
        "\n",
        "\n",
        "|MATERIA     |               PORQUE                |\n",
        "|------------|-------------------------------------|\n",
        "|Constitución|Porque nos colocan a debatir y pelear|\n",
        "|------------|-------------------------------------|\n",
        "|Química     |Me canta la química desde pequeño    |\n",
        "|------------|-------------------------------------|\n",
        "|Lógica      |         Por el profe                |\n"
      ],
      "metadata": {
        "id": "Vw0-2Sjtnhb5"
      }
    },
    {
      "cell_type": "code",
      "source": [],
      "metadata": {
        "id": "sVyvsqjDwWX_"
      },
      "execution_count": null,
      "outputs": []
    }
  ]
}